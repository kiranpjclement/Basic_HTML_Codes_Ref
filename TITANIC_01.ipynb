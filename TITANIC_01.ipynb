{
  "nbformat": 4,
  "nbformat_minor": 0,
  "metadata": {
    "kernelspec": {
      "display_name": "Python 3",
      "language": "python",
      "name": "python3"
    },
    "language_info": {
      "codemirror_mode": {
        "name": "ipython",
        "version": 3
      },
      "file_extension": ".py",
      "mimetype": "text/x-python",
      "name": "python",
      "nbconvert_exporter": "python",
      "pygments_lexer": "ipython3",
      "version": "3.8.5"
    },
    "colab": {
      "name": "TITANIC_01.ipynb",
      "provenance": [],
      "collapsed_sections": [],
      "toc_visible": true,
      "include_colab_link": true
    },
    "accelerator": "GPU"
  },
  "cells": [
    {
      "cell_type": "markdown",
      "metadata": {
        "id": "view-in-github",
        "colab_type": "text"
      },
      "source": [
        "<a href=\"https://colab.research.google.com/github/kiranpjclement/Basic_HTML_Codes_Ref/blob/main/TITANIC_01.ipynb\" target=\"_parent\"><img src=\"https://colab.research.google.com/assets/colab-badge.svg\" alt=\"Open In Colab\"/></a>"
      ]
    },
    {
      "cell_type": "code",
      "metadata": {
        "id": "V4SUQd1oD_03"
      },
      "source": [
        "import pandas as pd\n",
        "import numpy as np\n",
        "import seaborn as sns\n",
        "from sklearn.svm import SVC\n",
        "import matplotlib.pyplot as plt\n",
        "from sklearn.pipeline import make_pipeline\n",
        "from sklearn.metrics import accuracy_score\n",
        "from sklearn.preprocessing import StandardScaler"
      ],
      "execution_count": 140,
      "outputs": []
    },
    {
      "cell_type": "code",
      "metadata": {
        "scrolled": true,
        "id": "W5vyZYo-D_1S"
      },
      "source": [
        "df=pd.read_csv(\"/content/titanic_train.csv\")\n",
        "df2=pd.read_csv(\"/content/titanic_test.csv\")  #test data"
      ],
      "execution_count": 16,
      "outputs": []
    },
    {
      "cell_type": "code",
      "metadata": {
        "colab": {
          "base_uri": "https://localhost:8080/"
        },
        "id": "0uwFvTV6D_1V",
        "outputId": "90b1ea78-dc12-4bc4-ad7e-82c500a61727"
      },
      "source": [
        "df.shape"
      ],
      "execution_count": 17,
      "outputs": [
        {
          "output_type": "execute_result",
          "data": {
            "text/plain": [
              "(891, 12)"
            ]
          },
          "metadata": {
            "tags": []
          },
          "execution_count": 17
        }
      ]
    },
    {
      "cell_type": "code",
      "metadata": {
        "scrolled": true,
        "colab": {
          "base_uri": "https://localhost:8080/",
          "height": 333
        },
        "id": "TC_mObtUD_1Z",
        "outputId": "c599f37b-f636-48f3-8b1b-273fc27224cc"
      },
      "source": [
        "sns.heatmap(df.isnull(),yticklabels=False,cbar=False)"
      ],
      "execution_count": 18,
      "outputs": [
        {
          "output_type": "execute_result",
          "data": {
            "text/plain": [
              "<matplotlib.axes._subplots.AxesSubplot at 0x7f3c5ef1f850>"
            ]
          },
          "metadata": {
            "tags": []
          },
          "execution_count": 18
        },
        {
          "output_type": "display_data",
          "data": {
            "image/png": "[encoded data removed]",
            "text/plain": [
              "<Figure size 432x288 with 1 Axes>"
            ]
          },
          "metadata": {
            "tags": [],
            "needs_background": "light"
          }
        }
      ]
    },
    {
      "cell_type": "code",
      "metadata": {
        "colab": {
          "base_uri": "https://localhost:8080/"
        },
        "id": "NPCUZRxRD_1b",
        "outputId": "8e08dff4-e9ca-4962-c197-dae5b4cfea72"
      },
      "source": [
        "df.info()"
      ],
      "execution_count": 19,
      "outputs": [
        {
          "output_type": "stream",
          "text": [
            "<class 'pandas.core.frame.DataFrame'>\n",
            "RangeIndex: 891 entries, 0 to 890\n",
            "Data columns (total 12 columns):\n",
            " #   Column       Non-Null Count  Dtype  \n",
            "---  ------       --------------  -----  \n",
            " 0   PassengerId  891 non-null    int64  \n",
            " 1   Survived     891 non-null    int64  \n",
            " 2   Pclass       891 non-null    int64  \n",
            " 3   Name         891 non-null    object \n",
            " 4   Sex          891 non-null    object \n",
            " 5   Age          714 non-null    float64\n",
            " 6   SibSp        891 non-null    int64  \n",
            " 7   Parch        891 non-null    int64  \n",
            " 8   Ticket       891 non-null    object \n",
            " 9   Fare         891 non-null    float64\n",
            " 10  Cabin        204 non-null    object \n",
            " 11  Embarked     889 non-null    object \n",
            "dtypes: float64(2), int64(5), object(5)\n",
            "memory usage: 83.7+ KB\n"
          ],
          "name": "stdout"
        }
      ]
    },
    {
      "cell_type": "code",
      "metadata": {
        "colab": {
          "base_uri": "https://localhost:8080/"
        },
        "id": "SgxbxJ2KD_1d",
        "outputId": "df59b566-11a2-4e3a-d6c2-9e657264c9ee"
      },
      "source": [
        "for i in df.columns:\n",
        "    d=dict(df[i].isnull().value_counts())\n",
        "    print(i,d)"
      ],
      "execution_count": 20,
      "outputs": [
        {
          "output_type": "stream",
          "text": [
            "PassengerId {False: 891}\n",
            "Survived {False: 891}\n",
            "Pclass {False: 891}\n",
            "Name {False: 891}\n",
            "Sex {False: 891}\n",
            "Age {False: 714, True: 177}\n",
            "SibSp {False: 891}\n",
            "Parch {False: 891}\n",
            "Ticket {False: 891}\n",
            "Fare {False: 891}\n",
            "Cabin {True: 687, False: 204}\n",
            "Embarked {False: 889, True: 2}\n"
          ],
          "name": "stdout"
        }
      ]
    },
    {
      "cell_type": "markdown",
      "metadata": {
        "id": "MUp9wFRVD_1e"
      },
      "source": [
        "###### Handling Na in Embarked"
      ]
    },
    {
      "cell_type": "code",
      "metadata": {
        "colab": {
          "base_uri": "https://localhost:8080/",
          "height": 111
        },
        "id": "BPMeCkN4D_1f",
        "outputId": "28123694-f8dd-4cb1-e2f5-073989d30518"
      },
      "source": [
        "f=df['Embarked'].isna()\n",
        "df.loc[f]"
      ],
      "execution_count": 21,
      "outputs": [
        {
          "output_type": "execute_result",
          "data": {
            "text/html": [
              "<div>\n",
              "<style scoped>\n",
              "    .dataframe tbody tr th:only-of-type {\n",
              "        vertical-align: middle;\n",
              "    }\n",
              "\n",
              "    .dataframe tbody tr th {\n",
              "        vertical-align: top;\n",
              "    }\n",
              "\n",
              "    .dataframe thead th {\n",
              "        text-align: right;\n",
              "    }\n",
              "</style>\n",
              "<table border=\"1\" class=\"dataframe\">\n",
              "  <thead>\n",
              "    <tr style=\"text-align: right;\">\n",
              "      <th></th>\n",
              "      <th>PassengerId</th>\n",
              "      <th>Survived</th>\n",
              "      <th>Pclass</th>\n",
              "      <th>Name</th>\n",
              "      <th>Sex</th>\n",
              "      <th>Age</th>\n",
              "      <th>SibSp</th>\n",
              "      <th>Parch</th>\n",
              "      <th>Ticket</th>\n",
              "      <th>Fare</th>\n",
              "      <th>Cabin</th>\n",
              "      <th>Embarked</th>\n",
              "    </tr>\n",
              "  </thead>\n",
              "  <tbody>\n",
              "    <tr>\n",
              "      <th>61</th>\n",
              "      <td>62</td>\n",
              "      <td>1</td>\n",
              "      <td>1</td>\n",
              "      <td>Icard, Miss. Amelie</td>\n",
              "      <td>female</td>\n",
              "      <td>38.0</td>\n",
              "      <td>0</td>\n",
              "      <td>0</td>\n",
              "      <td>113572</td>\n",
              "      <td>80.0</td>\n",
              "      <td>B28</td>\n",
              "      <td>NaN</td>\n",
              "    </tr>\n",
              "    <tr>\n",
              "      <th>829</th>\n",
              "      <td>830</td>\n",
              "      <td>1</td>\n",
              "      <td>1</td>\n",
              "      <td>Stone, Mrs. George Nelson (Martha Evelyn)</td>\n",
              "      <td>female</td>\n",
              "      <td>62.0</td>\n",
              "      <td>0</td>\n",
              "      <td>0</td>\n",
              "      <td>113572</td>\n",
              "      <td>80.0</td>\n",
              "      <td>B28</td>\n",
              "      <td>NaN</td>\n",
              "    </tr>\n",
              "  </tbody>\n",
              "</table>\n",
              "</div>"
            ],
            "text/plain": [
              "     PassengerId  Survived  Pclass  ...  Fare Cabin  Embarked\n",
              "61            62         1       1  ...  80.0   B28       NaN\n",
              "829          830         1       1  ...  80.0   B28       NaN\n",
              "\n",
              "[2 rows x 12 columns]"
            ]
          },
          "metadata": {
            "tags": []
          },
          "execution_count": 21
        }
      ]
    },
    {
      "cell_type": "code",
      "metadata": {
        "id": "EExZ9I6jD_1h"
      },
      "source": [
        "df.loc[f,'Embarked'] ='S'  #Ticket and cabin same for both the passenger, so assumed boarded from same location"
      ],
      "execution_count": 22,
      "outputs": []
    },
    {
      "cell_type": "markdown",
      "metadata": {
        "id": "0x3CjSL3D_1i"
      },
      "source": [
        "###### Handling Nan in Age Columns"
      ]
    },
    {
      "cell_type": "markdown",
      "metadata": {
        "id": "iP5ZD0l-D_1j"
      },
      "source": [
        "###### Getting the avg age of male and female for all the classes"
      ]
    },
    {
      "cell_type": "code",
      "metadata": {
        "id": "QJUoMk0vD_1l"
      },
      "source": [
        "dfmale=df.loc[df['Sex']=='male']    \n",
        "dffemale=df.loc[df['Sex']=='female']"
      ],
      "execution_count": 23,
      "outputs": []
    },
    {
      "cell_type": "code",
      "metadata": {
        "colab": {
          "base_uri": "https://localhost:8080/"
        },
        "id": "s8hZNbEqD_1m",
        "outputId": "c1ef533f-bab6-4207-c2bf-9396ee294a5b"
      },
      "source": [
        "g=dfmale.groupby(['Pclass'])\n",
        "g['Age'].median()"
      ],
      "execution_count": 24,
      "outputs": [
        {
          "output_type": "execute_result",
          "data": {
            "text/plain": [
              "Pclass\n",
              "1    40.0\n",
              "2    30.0\n",
              "3    25.0\n",
              "Name: Age, dtype: float64"
            ]
          },
          "metadata": {
            "tags": []
          },
          "execution_count": 24
        }
      ]
    },
    {
      "cell_type": "code",
      "metadata": {
        "colab": {
          "base_uri": "https://localhost:8080/"
        },
        "id": "ub5zAaBiD_1n",
        "outputId": "5051b25c-e872-4b6a-f3e7-377b0caf2bb9"
      },
      "source": [
        "g=dffemale.groupby(['Pclass'])\n",
        "g['Age'].median()"
      ],
      "execution_count": 25,
      "outputs": [
        {
          "output_type": "execute_result",
          "data": {
            "text/plain": [
              "Pclass\n",
              "1    35.0\n",
              "2    28.0\n",
              "3    21.5\n",
              "Name: Age, dtype: float64"
            ]
          },
          "metadata": {
            "tags": []
          },
          "execution_count": 25
        }
      ]
    },
    {
      "cell_type": "code",
      "metadata": {
        "id": "gn-s3sQfD_1p"
      },
      "source": [
        "f1=(df['Age'].isnull()) & (df['Sex']=='male') & (df['Pclass']==1)  #fillted the missing Age for men with median age of men\n",
        "df.loc[f1,'Age']=40.0"
      ],
      "execution_count": 26,
      "outputs": []
    },
    {
      "cell_type": "code",
      "metadata": {
        "id": "28xdayrLD_1p"
      },
      "source": [
        "f2=(df['Age'].isnull()) & (df['Sex']=='male') & (df['Pclass']==2)  #fillted the missing Age for men with median age of men\n",
        "df.loc[f2,'Age']=30.0"
      ],
      "execution_count": 27,
      "outputs": []
    },
    {
      "cell_type": "code",
      "metadata": {
        "id": "UI7-fbnMD_1q"
      },
      "source": [
        "f3=(df['Age'].isnull()) & (df['Sex']=='male') & (df['Pclass']==3)  #fillted the missing Age for men with median age of men\n",
        "df.loc[f3,'Age']=25"
      ],
      "execution_count": 28,
      "outputs": []
    },
    {
      "cell_type": "code",
      "metadata": {
        "id": "nwY1UyfoD_1r"
      },
      "source": [
        "f4=(df['Age'].isnull()) & (df['Sex']=='female') & (df['Pclass']==1)  #fillted the missing Age for men with median age of men\n",
        "df.loc[f4,'Age']=35.0"
      ],
      "execution_count": 29,
      "outputs": []
    },
    {
      "cell_type": "code",
      "metadata": {
        "id": "huguTveND_1s"
      },
      "source": [
        "f5=(df['Age'].isnull()) & (df['Sex']=='female') & (df['Pclass']==2)  #fillted the missing Age for men with median age of men\n",
        "df.loc[f5,'Age']=28.0"
      ],
      "execution_count": 30,
      "outputs": []
    },
    {
      "cell_type": "code",
      "metadata": {
        "id": "rhCwhcG2D_1t"
      },
      "source": [
        "f6=(df['Age'].isnull()) & (df['Sex']=='female') & (df['Pclass']==3)  #fillted the missing Age for men with median age of men\n",
        "df.loc[f6,'Age']=21.5"
      ],
      "execution_count": 31,
      "outputs": []
    },
    {
      "cell_type": "code",
      "metadata": {
        "scrolled": true,
        "colab": {
          "base_uri": "https://localhost:8080/"
        },
        "id": "lHiDPognD_1u",
        "outputId": "36a8878b-3c3c-46ca-98a3-0fa97b0ca854"
      },
      "source": [
        "df['Age'].isnull().value_counts()"
      ],
      "execution_count": 32,
      "outputs": [
        {
          "output_type": "execute_result",
          "data": {
            "text/plain": [
              "False    891\n",
              "Name: Age, dtype: int64"
            ]
          },
          "metadata": {
            "tags": []
          },
          "execution_count": 32
        }
      ]
    },
    {
      "cell_type": "markdown",
      "metadata": {
        "id": "4L_7sad0D_1v"
      },
      "source": [
        "###### used the same median value from the train to fill the test data"
      ]
    },
    {
      "cell_type": "code",
      "metadata": {
        "id": "_WHXi6PvD_1v"
      },
      "source": [
        "f7=(df2['Age'].isnull()) & (df2['Sex']=='male') & (df2['Pclass']==1)  #fillted the missing Age for men with median age of men\n",
        "df2.loc[f7,'Age']=40.0"
      ],
      "execution_count": 33,
      "outputs": []
    },
    {
      "cell_type": "code",
      "metadata": {
        "id": "JtyjrwpKD_1w"
      },
      "source": [
        "f8=(df2['Age'].isnull()) & (df2['Sex']=='male') & (df2['Pclass']==2)  #fillted the missing Age for men with median age of men\n",
        "df2.loc[f8,'Age']=30.0"
      ],
      "execution_count": 34,
      "outputs": []
    },
    {
      "cell_type": "code",
      "metadata": {
        "id": "FALPCjXPD_1x"
      },
      "source": [
        "f9=(df2['Age'].isnull()) & (df2['Sex']=='male') & (df2['Pclass']==3)  #fillted the missing Age for men with median age of men\n",
        "df2.loc[f9,'Age']=25"
      ],
      "execution_count": 35,
      "outputs": []
    },
    {
      "cell_type": "code",
      "metadata": {
        "id": "my14QcFbD_1y"
      },
      "source": [
        "f10=(df2['Age'].isnull()) & (df2['Sex']=='female') & (df2['Pclass']==1)  #fillted the missing Age for men with median age of men\n",
        "df2.loc[f10,'Age']=35.0"
      ],
      "execution_count": 36,
      "outputs": []
    },
    {
      "cell_type": "code",
      "metadata": {
        "id": "vD9VTubMD_1z"
      },
      "source": [
        "f11=(df2['Age'].isnull()) & (df2['Sex']=='female') & (df2['Pclass']==2)  #fillted the missing Age for men with median age of men\n",
        "df2.loc[f11,'Age']=28.0"
      ],
      "execution_count": 37,
      "outputs": []
    },
    {
      "cell_type": "code",
      "metadata": {
        "id": "2HsZj87aD_1z"
      },
      "source": [
        "f12=(df2['Age'].isnull()) & (df2['Sex']=='female') & (df2['Pclass']==3)  #fillted the missing Age for men with median age of men\n",
        "df2.loc[f12,'Age']=21.5"
      ],
      "execution_count": 38,
      "outputs": []
    },
    {
      "cell_type": "code",
      "metadata": {
        "colab": {
          "base_uri": "https://localhost:8080/"
        },
        "id": "Nz1XFx1nD_10",
        "outputId": "a86b14ea-83a6-482e-a8a4-1fe48e5eee89"
      },
      "source": [
        "df2['Age'].isnull().value_counts()"
      ],
      "execution_count": 39,
      "outputs": [
        {
          "output_type": "execute_result",
          "data": {
            "text/plain": [
              "False    418\n",
              "Name: Age, dtype: int64"
            ]
          },
          "metadata": {
            "tags": []
          },
          "execution_count": 39
        }
      ]
    },
    {
      "cell_type": "markdown",
      "metadata": {
        "id": "ZkFFU00eD_11"
      },
      "source": [
        "###### Handling Fare"
      ]
    },
    {
      "cell_type": "code",
      "metadata": {
        "scrolled": false,
        "colab": {
          "base_uri": "https://localhost:8080/",
          "height": 80
        },
        "id": "fV6ahi8LD_13",
        "outputId": "41a9bb8e-8e77-4107-d645-2248efa8bc19"
      },
      "source": [
        "f5=df2['Fare'].isnull()\n",
        "df2.loc[f5]"
      ],
      "execution_count": 40,
      "outputs": [
        {
          "output_type": "execute_result",
          "data": {
            "text/html": [
              "<div>\n",
              "<style scoped>\n",
              "    .dataframe tbody tr th:only-of-type {\n",
              "        vertical-align: middle;\n",
              "    }\n",
              "\n",
              "    .dataframe tbody tr th {\n",
              "        vertical-align: top;\n",
              "    }\n",
              "\n",
              "    .dataframe thead th {\n",
              "        text-align: right;\n",
              "    }\n",
              "</style>\n",
              "<table border=\"1\" class=\"dataframe\">\n",
              "  <thead>\n",
              "    <tr style=\"text-align: right;\">\n",
              "      <th></th>\n",
              "      <th>PassengerId</th>\n",
              "      <th>Pclass</th>\n",
              "      <th>Name</th>\n",
              "      <th>Sex</th>\n",
              "      <th>Age</th>\n",
              "      <th>SibSp</th>\n",
              "      <th>Parch</th>\n",
              "      <th>Ticket</th>\n",
              "      <th>Fare</th>\n",
              "      <th>Cabin</th>\n",
              "      <th>Embarked</th>\n",
              "    </tr>\n",
              "  </thead>\n",
              "  <tbody>\n",
              "    <tr>\n",
              "      <th>152</th>\n",
              "      <td>1044</td>\n",
              "      <td>3</td>\n",
              "      <td>Storey, Mr. Thomas</td>\n",
              "      <td>male</td>\n",
              "      <td>60.5</td>\n",
              "      <td>0</td>\n",
              "      <td>0</td>\n",
              "      <td>3701</td>\n",
              "      <td>NaN</td>\n",
              "      <td>NaN</td>\n",
              "      <td>S</td>\n",
              "    </tr>\n",
              "  </tbody>\n",
              "</table>\n",
              "</div>"
            ],
            "text/plain": [
              "     PassengerId  Pclass                Name   Sex  ...  Ticket  Fare  Cabin Embarked\n",
              "152         1044       3  Storey, Mr. Thomas  male  ...    3701   NaN    NaN        S\n",
              "\n",
              "[1 rows x 11 columns]"
            ]
          },
          "metadata": {
            "tags": []
          },
          "execution_count": 40
        }
      ]
    },
    {
      "cell_type": "code",
      "metadata": {
        "colab": {
          "base_uri": "https://localhost:8080/"
        },
        "id": "vB26eyOuD_14",
        "outputId": "88d2f8c3-53ae-4d2a-cb0c-f218c737e53b"
      },
      "source": [
        "g3=df.groupby(['Embarked'])\n",
        "g3['Fare'].median()\n"
      ],
      "execution_count": 41,
      "outputs": [
        {
          "output_type": "execute_result",
          "data": {
            "text/plain": [
              "Embarked\n",
              "C    29.70\n",
              "Q     7.75\n",
              "S    13.00\n",
              "Name: Fare, dtype: float64"
            ]
          },
          "metadata": {
            "tags": []
          },
          "execution_count": 41
        }
      ]
    },
    {
      "cell_type": "code",
      "metadata": {
        "id": "fJWJYcOfD_16"
      },
      "source": [
        "df2.loc[f5,'Fare']=13  #filled with median fare of Embarked 'S'"
      ],
      "execution_count": 42,
      "outputs": []
    },
    {
      "cell_type": "markdown",
      "metadata": {
        "id": "QMTVNkjeD_16"
      },
      "source": [
        "##### Creating X and y data"
      ]
    },
    {
      "cell_type": "code",
      "metadata": {
        "colab": {
          "base_uri": "https://localhost:8080/"
        },
        "id": "Jw3de9RAD_17",
        "outputId": "b229e32f-d84e-4c75-85e9-e10d3b5eb98f"
      },
      "source": [
        "df.columns"
      ],
      "execution_count": 43,
      "outputs": [
        {
          "output_type": "execute_result",
          "data": {
            "text/plain": [
              "Index(['PassengerId', 'Survived', 'Pclass', 'Name', 'Sex', 'Age', 'SibSp',\n",
              "       'Parch', 'Ticket', 'Fare', 'Cabin', 'Embarked'],\n",
              "      dtype='object')"
            ]
          },
          "metadata": {
            "tags": []
          },
          "execution_count": 43
        }
      ]
    },
    {
      "cell_type": "code",
      "metadata": {
        "scrolled": true,
        "id": "TdUIx2SUD_18"
      },
      "source": [
        "X=df[['Pclass', 'Sex', 'Age', 'SibSp',\n",
        "       'Parch', 'Fare', 'Embarked']]"
      ],
      "execution_count": 44,
      "outputs": []
    },
    {
      "cell_type": "code",
      "metadata": {
        "id": "xZN0nBmVD_19"
      },
      "source": [
        "y=df['Survived']"
      ],
      "execution_count": 45,
      "outputs": []
    },
    {
      "cell_type": "code",
      "metadata": {
        "id": "DaPZGDgSD_19"
      },
      "source": [
        "Xt=df2[['Pclass', 'Sex', 'Age', 'SibSp',\n",
        "       'Parch', 'Fare', 'Embarked']]"
      ],
      "execution_count": 46,
      "outputs": []
    },
    {
      "cell_type": "markdown",
      "metadata": {
        "id": "2V4k2d9hD_1-"
      },
      "source": [
        "##### One Hot Encoding"
      ]
    },
    {
      "cell_type": "code",
      "metadata": {
        "id": "F1LsPAkMD_1_"
      },
      "source": [
        "temp_x1=pd.get_dummies(X['Embarked'],drop_first=True)\n",
        "X=pd.concat([X,temp_x1],axis=1)\n",
        "X.drop(columns='Embarked',inplace=True)"
      ],
      "execution_count": 47,
      "outputs": []
    },
    {
      "cell_type": "markdown",
      "metadata": {
        "id": "wUABkpIsD_1_"
      },
      "source": [
        "###### Test -[Embarked]"
      ]
    },
    {
      "cell_type": "code",
      "metadata": {
        "id": "Sr5ey84JD_2A"
      },
      "source": [
        "temp_xt1=pd.get_dummies(Xt['Embarked'],drop_first=True) \n",
        "Xt=pd.concat([Xt,temp_xt1],axis=1)\n",
        "Xt.drop(columns='Embarked',inplace=True)"
      ],
      "execution_count": 48,
      "outputs": []
    },
    {
      "cell_type": "code",
      "metadata": {
        "id": "OMCtJvXUD_2B"
      },
      "source": [
        ""
      ],
      "execution_count": 48,
      "outputs": []
    },
    {
      "cell_type": "code",
      "metadata": {
        "id": "D0Le4jBKD_2B"
      },
      "source": [
        "temp_x2=pd.get_dummies(X['Sex'],drop_first=True) \n",
        "X=pd.concat([X,temp_x2],axis=1)\n",
        "X.drop(columns='Sex',inplace=True)"
      ],
      "execution_count": 49,
      "outputs": []
    },
    {
      "cell_type": "code",
      "metadata": {
        "id": "jHHMxwEYD_2C"
      },
      "source": [
        "temp_xt2=pd.get_dummies(Xt['Sex'],drop_first=True) \n",
        "Xt=pd.concat([Xt,temp_xt2],axis=1)\n",
        "Xt.drop(columns='Sex',inplace=True)"
      ],
      "execution_count": 50,
      "outputs": []
    },
    {
      "cell_type": "markdown",
      "metadata": {
        "id": "sbBc_fNtD_2G"
      },
      "source": [
        "#### Split model"
      ]
    },
    {
      "cell_type": "code",
      "metadata": {
        "id": "TcIaP_YND_2I"
      },
      "source": [
        "from sklearn.model_selection import train_test_split\n",
        "X_train,X_test,y_train,y_test=train_test_split(X,y,test_size=.2,random_state=0)"
      ],
      "execution_count": 51,
      "outputs": []
    },
    {
      "cell_type": "code",
      "metadata": {
        "scrolled": false,
        "colab": {
          "base_uri": "https://localhost:8080/"
        },
        "id": "kj2FNMF9D_2J",
        "outputId": "2cd5686b-b66b-43b5-ee44-27e8777b7a77"
      },
      "source": [
        "X.shape"
      ],
      "execution_count": 52,
      "outputs": [
        {
          "output_type": "execute_result",
          "data": {
            "text/plain": [
              "(891, 8)"
            ]
          },
          "metadata": {
            "tags": []
          },
          "execution_count": 52
        }
      ]
    },
    {
      "cell_type": "code",
      "metadata": {
        "colab": {
          "base_uri": "https://localhost:8080/"
        },
        "id": "nQj8tFh1D_2K",
        "outputId": "e553e11f-452e-4679-cf27-9a5e65371fac"
      },
      "source": [
        "Xt.shape"
      ],
      "execution_count": 53,
      "outputs": [
        {
          "output_type": "execute_result",
          "data": {
            "text/plain": [
              "(418, 8)"
            ]
          },
          "metadata": {
            "tags": []
          },
          "execution_count": 53
        }
      ]
    },
    {
      "cell_type": "code",
      "metadata": {
        "id": "kSWaqHS4OQKi"
      },
      "source": [
        "SVM"
      ],
      "execution_count": null,
      "outputs": []
    },
    {
      "cell_type": "code",
      "metadata": {
        "colab": {
          "base_uri": "https://localhost:8080/"
        },
        "id": "0TI8c2a_OQZU",
        "outputId": "68d8d2b6-a4f4-4937-c3ed-cf86c748f853"
      },
      "source": [
        ""
      ],
      "execution_count": 96,
      "outputs": [
        {
          "output_type": "execute_result",
          "data": {
            "text/plain": [
              "Pipeline(memory=None,\n",
              "         steps=[('standardscaler',\n",
              "                 StandardScaler(copy=True, with_mean=True, with_std=True)),\n",
              "                ('svc',\n",
              "                 SVC(C=1.0, break_ties=False, cache_size=200, class_weight=None,\n",
              "                     coef0=0.0, decision_function_shape='ovr', degree=3,\n",
              "                     gamma='auto', kernel='rbf', max_iter=-1, probability=False,\n",
              "                     random_state=None, shrinking=True, tol=0.001,\n",
              "                     verbose=False))],\n",
              "         verbose=False)"
            ]
          },
          "metadata": {
            "tags": []
          },
          "execution_count": 96
        }
      ]
    },
    {
      "cell_type": "code",
      "metadata": {
        "colab": {
          "base_uri": "https://localhost:8080/"
        },
        "id": "w7l_ZIBhD_2Y",
        "outputId": "31d30d1e-0711-4125-cd4d-96eb762edc41"
      },
      "source": [
        "print(clf.score(X_test,y_test))\n",
        "print(clf.score(X_train,y_train))"
      ],
      "execution_count": 97,
      "outputs": [
        {
          "output_type": "stream",
          "text": [
            "0.8379888268156425\n",
            "0.848314606741573\n"
          ],
          "name": "stdout"
        }
      ]
    },
    {
      "cell_type": "code",
      "metadata": {
        "colab": {
          "base_uri": "https://localhost:8080/"
        },
        "id": "H2Pw8pHrQKJf",
        "outputId": "f6e0a301-831c-4249-e5c3-dffb48687694"
      },
      "source": [
        "test_clf=[]\n",
        "train_clf=[]\n",
        "index_data=[]\n",
        "for  i in (.5,.7,.9,1,1.2,1.4,1.6,1.8):\n",
        "  clf = make_pipeline(StandardScaler(), SVC(C=i,gamma='auto'))\n",
        "  clf.fit(X, y)\n",
        "  print(i,clf.score(X_test,y_test))\n",
        "  print(i,clf.score(X_train,y_train))\n",
        "  test_clf.append(clf.score(X_test,y_test))\n",
        "  train_clf.append(clf.score(X_train,y_train))\n",
        "  index_data.append(i)"
      ],
      "execution_count": 129,
      "outputs": [
        {
          "output_type": "stream",
          "text": [
            "0.5 0.8212290502793296\n",
            "0.5 0.8398876404494382\n",
            "0.7 0.8212290502793296\n",
            "0.7 0.8455056179775281\n",
            "0.9 0.8379888268156425\n",
            "0.9 0.848314606741573\n",
            "1 0.8379888268156425\n",
            "1 0.848314606741573\n",
            "1.2 0.8491620111731844\n",
            "1.2 0.848314606741573\n",
            "1.4 0.8435754189944135\n",
            "1.4 0.8469101123595506\n",
            "1.6 0.8435754189944135\n",
            "1.6 0.8469101123595506\n",
            "1.8 0.8435754189944135\n",
            "1.8 0.8469101123595506\n"
          ],
          "name": "stdout"
        }
      ]
    },
    {
      "cell_type": "code",
      "metadata": {
        "colab": {
          "base_uri": "https://localhost:8080/",
          "height": 282
        },
        "id": "doTv5wKGR1Qj",
        "outputId": "6ddebf99-c629-4765-a2ed-e14ad26f48b7"
      },
      "source": [
        "scoredf=pd.DataFrame({'test':test_clf,'train':train_clf},index=index_data)\n",
        "sns.lineplot(data=scoredf)"
      ],
      "execution_count": 139,
      "outputs": [
        {
          "output_type": "execute_result",
          "data": {
            "text/plain": [
              "<matplotlib.axes._subplots.AxesSubplot at 0x7f3c4b64a910>"
            ]
          },
          "metadata": {
            "tags": []
          },
          "execution_count": 139
        },
        {
          "output_type": "display_data",
          "data": {
            "image/png": "[encoded data removed]",
            "text/plain": [
              "<Figure size 432x288 with 1 Axes>"
            ]
          },
          "metadata": {
            "tags": [],
            "needs_background": "light"
          }
        }
      ]
    },
    {
      "cell_type": "code",
      "metadata": {
        "colab": {
          "base_uri": "https://localhost:8080/"
        },
        "id": "TGppN59vRNsC",
        "outputId": "ff090602-4b27-4b28-e01d-c47e81c2c51a"
      },
      "source": [
        "clf = make_pipeline(StandardScaler(), SVC(C=1.2,gamma='auto'))\n",
        "clf.fit(X, y)"
      ],
      "execution_count": 133,
      "outputs": [
        {
          "output_type": "execute_result",
          "data": {
            "text/plain": [
              "Pipeline(memory=None,\n",
              "         steps=[('standardscaler',\n",
              "                 StandardScaler(copy=True, with_mean=True, with_std=True)),\n",
              "                ('svc',\n",
              "                 SVC(C=1.2, break_ties=False, cache_size=200, class_weight=None,\n",
              "                     coef0=0.0, decision_function_shape='ovr', degree=3,\n",
              "                     gamma='auto', kernel='rbf', max_iter=-1, probability=False,\n",
              "                     random_state=None, shrinking=True, tol=0.001,\n",
              "                     verbose=False))],\n",
              "         verbose=False)"
            ]
          },
          "metadata": {
            "tags": []
          },
          "execution_count": 133
        }
      ]
    },
    {
      "cell_type": "code",
      "metadata": {
        "colab": {
          "base_uri": "https://localhost:8080/"
        },
        "id": "glrYort6POC5",
        "outputId": "51fff813-8090-48ce-9ed3-f5f9d03f9beb"
      },
      "source": [
        "y_pred_svm=clf.predict(Xt)\n",
        "y_pred_svm"
      ],
      "execution_count": 136,
      "outputs": [
        {
          "output_type": "execute_result",
          "data": {
            "text/plain": [
              "array([0, 0, 0, 0, 0, 0, 1, 0, 1, 0, 0, 0, 1, 0, 1, 1, 0, 0, 0, 0, 0, 1,\n",
              "       1, 0, 1, 0, 1, 0, 0, 0, 0, 0, 0, 0, 0, 0, 0, 0, 0, 0, 0, 0, 0, 1,\n",
              "       1, 0, 0, 0, 1, 0, 0, 0, 1, 1, 0, 0, 0, 0, 0, 1, 0, 0, 0, 1, 0, 1,\n",
              "       1, 0, 0, 0, 1, 0, 0, 0, 1, 0, 0, 1, 0, 1, 1, 0, 0, 0, 0, 0, 1, 0,\n",
              "       1, 1, 0, 0, 1, 0, 0, 0, 1, 0, 0, 0, 1, 0, 0, 0, 1, 0, 0, 0, 0, 0,\n",
              "       0, 1, 1, 1, 1, 0, 0, 1, 0, 1, 1, 0, 1, 0, 0, 1, 0, 1, 0, 0, 0, 0,\n",
              "       0, 0, 0, 0, 0, 0, 0, 0, 0, 1, 0, 0, 0, 0, 0, 0, 0, 0, 1, 0, 0, 0,\n",
              "       0, 0, 1, 0, 0, 1, 1, 1, 1, 0, 0, 0, 0, 0, 1, 0, 0, 0, 0, 0, 0, 1,\n",
              "       1, 0, 1, 1, 0, 0, 1, 0, 1, 0, 1, 0, 0, 0, 0, 0, 0, 0, 1, 0, 1, 0,\n",
              "       0, 0, 1, 1, 0, 1, 0, 0, 1, 0, 1, 0, 0, 0, 0, 1, 0, 0, 1, 0, 1, 0,\n",
              "       1, 0, 1, 0, 1, 1, 0, 1, 0, 0, 0, 1, 0, 0, 0, 0, 0, 0, 1, 1, 1, 1,\n",
              "       0, 0, 0, 0, 1, 0, 1, 1, 1, 0, 0, 0, 0, 0, 0, 0, 1, 0, 0, 0, 1, 1,\n",
              "       0, 0, 0, 0, 0, 0, 0, 0, 1, 1, 0, 1, 0, 0, 0, 0, 0, 1, 1, 1, 1, 0,\n",
              "       0, 0, 0, 0, 0, 1, 0, 0, 0, 0, 1, 0, 0, 0, 0, 0, 0, 0, 1, 1, 0, 1,\n",
              "       0, 0, 0, 0, 0, 1, 1, 1, 0, 0, 0, 0, 0, 0, 0, 0, 1, 0, 1, 0, 0, 0,\n",
              "       1, 0, 0, 1, 0, 0, 0, 0, 0, 0, 0, 0, 0, 1, 0, 0, 0, 1, 0, 1, 1, 0,\n",
              "       0, 0, 1, 0, 1, 0, 0, 0, 0, 1, 1, 0, 1, 0, 0, 0, 1, 0, 0, 1, 0, 0,\n",
              "       1, 1, 0, 0, 0, 0, 0, 0, 0, 0, 0, 1, 0, 0, 0, 0, 0, 1, 1, 0, 0, 1,\n",
              "       0, 1, 0, 0, 1, 0, 1, 0, 0, 0, 0, 0, 1, 1, 1, 1, 0, 0, 1, 0, 0, 0])"
            ]
          },
          "metadata": {
            "tags": []
          },
          "execution_count": 136
        }
      ]
    },
    {
      "cell_type": "code",
      "metadata": {
        "id": "s_Ax7d3UD_2Y"
      },
      "source": [
        "submission=pd.DataFrame({\"PassengerId\" : df2['PassengerId'],\"Survived\" :y_predlog})\n",
        "submission.to_csv(\"titanic_svm.csv\",index=False)"
      ],
      "execution_count": 137,
      "outputs": []
    },
    {
      "cell_type": "code",
      "metadata": {
        "id": "J_lT_2IgD_2Z"
      },
      "source": [
        ""
      ],
      "execution_count": null,
      "outputs": []
    },
    {
      "cell_type": "code",
      "metadata": {
        "id": "xZ7_6ZknD_2Z"
      },
      "source": [
        "\n"
      ],
      "execution_count": null,
      "outputs": []
    },
    {
      "cell_type": "code",
      "metadata": {
        "id": "NI4qENHrD_2a"
      },
      "source": [
        ""
      ],
      "execution_count": null,
      "outputs": []
    },
    {
      "cell_type": "code",
      "metadata": {
        "id": "svwN9RjJD_2a"
      },
      "source": [
        ""
      ],
      "execution_count": null,
      "outputs": []
    }
  ]
}